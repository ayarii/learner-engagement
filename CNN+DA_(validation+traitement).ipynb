{
  "nbformat": 4,
  "nbformat_minor": 0,
  "metadata": {
    "colab": {
      "provenance": [],
      "gpuType": "T4",
      "include_colab_link": true
    },
    "kernelspec": {
      "name": "python3",
      "display_name": "Python 3"
    },
    "language_info": {
      "name": "python"
    },
    "accelerator": "GPU"
  },
  "cells": [
    {
      "cell_type": "markdown",
      "metadata": {
        "id": "view-in-github",
        "colab_type": "text"
      },
      "source": [
        "<a href=\"https://colab.research.google.com/github/ayarii/learner-engagement/blob/main/CNN%2BDA_(validation%2Btraitement).ipynb\" target=\"_parent\"><img src=\"https://colab.research.google.com/assets/colab-badge.svg\" alt=\"Open In Colab\"/></a>"
      ]
    },
    {
      "cell_type": "code",
      "execution_count": 1,
      "metadata": {
        "id": "P0FFga0fefUj"
      },
      "outputs": [],
      "source": [
        "import cv2\n",
        "import numpy as np\n",
        "import requests\n",
        "import matplotlib.pyplot as plt\n",
        "import matplotlib.image as mpimg\n",
        "import sys\n",
        "import datetime\n",
        "from tensorflow import keras\n",
        "from tensorflow.keras.models import Model\n",
        "import tensorflow as tf\n",
        "import pathlib\n",
        "import os\n",
        "import zipfile\n",
        "from tensorflow.keras.callbacks import EarlyStopping\n",
        "from sklearn.metrics import roc_curve, auc\n",
        "from tensorflow.keras import layers\n",
        "from keras.models import Sequential\n",
        "from keras.layers import Conv2D, MaxPooling2D, Flatten, Dense, Dropout, Activation\n",
        "from tensorflow.keras import layers, callbacks\n",
        "from tensorflow.keras.preprocessing.image import ImageDataGenerator\n",
        "from sklearn.model_selection import train_test_split\n",
        "\n"
      ]
    },
    {
      "cell_type": "code",
      "source": [
        "\n",
        "#Import dataset\n",
        "data_dir = tf.keras.utils.get_file(\n",
        "    \"dataset.zip\",\n",
        "    \"https://github.com/ayarii/learner-engagement/blob/main/Student-engagement-dataset.zip?raw=true\",\n",
        "    extract=False)\n",
        "with zipfile.ZipFile(data_dir, 'r') as zip_ref:\n",
        "    zip_ref.extractall('/content/datasets')\n",
        "data_dir = pathlib.Path('/content/datasets/Student-engagement-dataset')\n",
        "print(data_dir)\n",
        "print(os.path.abspath(data_dir))\n",
        "\n"
      ],
      "metadata": {
        "colab": {
          "base_uri": "https://localhost:8080/"
        },
        "id": "o2inyj7UlaDz",
        "outputId": "1f50dfb0-7dfe-40bd-e122-3ded228807d9"
      },
      "execution_count": 2,
      "outputs": [
        {
          "output_type": "stream",
          "name": "stdout",
          "text": [
            "Downloading data from https://github.com/ayarii/learner-engagement/blob/main/Student-engagement-dataset.zip?raw=true\n",
            "40069772/40069772 [==============================] - 1s 0us/step\n",
            "/content/datasets/Student-engagement-dataset\n",
            "/content/datasets/Student-engagement-dataset\n"
          ]
        }
      ]
    },
    {
      "cell_type": "code",
      "source": [
        "import shutil\n",
        "\n",
        "# Chemin vers le dossier contenant vos dossiers d'ensemble de données\n",
        "data_dir = '/content/datasets/Student-engagement-dataset'\n",
        "\n",
        "# Chemin vers le dossier où vous souhaitez placer les ensembles de traitement et de validation\n",
        "output_dir = '/content/datasets'\n",
        "\n",
        "# Liste des noms de dossiers dans votre ensemble de données\n",
        "folder_names = os.listdir(data_dir)\n",
        "\n",
        "# Création des dossiers de traitement et de validation s'ils n'existent pas déjà\n",
        "train_dir = os.path.join(output_dir, 'train')\n",
        "val_dir = os.path.join(output_dir, 'validation')\n",
        "os.makedirs(train_dir, exist_ok=True)\n",
        "os.makedirs(val_dir, exist_ok=True)\n",
        "\n",
        "# Répartition des données en ensembles de traitement et de validation\n",
        "for folder_name in folder_names:\n",
        "    folder_path = os.path.join(data_dir, folder_name)\n",
        "    images = os.listdir(folder_path)\n",
        "    train_images, val_images = train_test_split(images, test_size=0.2, random_state=42)\n",
        "\n",
        "    # Création des sous-dossiers dans les ensembles de traitement et de validation\n",
        "    train_folder_path = os.path.join(train_dir, folder_name)\n",
        "    val_folder_path = os.path.join(val_dir, folder_name)\n",
        "    os.makedirs(train_folder_path, exist_ok=True)\n",
        "    os.makedirs(val_folder_path, exist_ok=True)\n",
        "\n",
        "    # Déplacement des images dans les sous-dossiers correspondants\n",
        "    for image in train_images:\n",
        "        shutil.copy(os.path.join(folder_path, image), os.path.join(train_folder_path, image))\n",
        "    for image in val_images:\n",
        "        shutil.copy(os.path.join(folder_path, image), os.path.join(val_folder_path, image))\n",
        "\n",
        "print(\"Données divisées en ensembles de traitement et de validation avec succès.\")\n",
        "\n"
      ],
      "metadata": {
        "colab": {
          "base_uri": "https://localhost:8080/"
        },
        "id": "i4u-fb0d1CbA",
        "outputId": "5c79bf78-d6ab-422f-e29c-d6470b581dc5"
      },
      "execution_count": 3,
      "outputs": [
        {
          "output_type": "stream",
          "name": "stdout",
          "text": [
            "Données divisées en ensembles de traitement et de validation avec succès.\n"
          ]
        }
      ]
    },
    {
      "cell_type": "code",
      "source": [
        "# Chemin vers les dossiers d'entraînement et de validation\n",
        "train_dir = '/content/datasets/train/'\n",
        "val_dir = '/content/datasets/validation/'\n",
        "\n",
        "# Fonction pour compter le nombre total d'images dans un dossier\n",
        "def count_images_in_directory(directory):\n",
        "    total_images = 0\n",
        "    # Parcours de chaque sous-dossier dans le répertoire\n",
        "    for sub_directory in os.listdir(directory):\n",
        "        sub_directory_path = os.path.join(directory, sub_directory)\n",
        "        # Comptage des fichiers dans le sous-dossier\n",
        "        if os.path.isdir(sub_directory_path):\n",
        "            num_images = len([filename for filename in os.listdir(sub_directory_path)\n",
        "                              if filename.endswith('.jpg') or filename.endswith('.png') or filename.endswith('.jpeg')])\n",
        "            total_images += num_images\n",
        "    return total_images\n",
        "\n",
        "# Comptage du nombre total d'images dans chaque dossier\n",
        "total_train_images = count_images_in_directory(train_dir)\n",
        "total_val_images = count_images_in_directory(val_dir)\n",
        "\n",
        "# Affichage du nombre total d'images dans chaque dossier\n",
        "print(\"Nombre total d'images dans le dossier d'entraînement :\", total_train_images)\n",
        "print(\"Nombre total d'images dans le dossier de validation :\", total_val_images)\n"
      ],
      "metadata": {
        "colab": {
          "base_uri": "https://localhost:8080/"
        },
        "id": "Y8FJvkBN1XmG",
        "outputId": "f66b8a63-0f87-43c4-d540-a6581c0e4d06"
      },
      "execution_count": 4,
      "outputs": [
        {
          "output_type": "stream",
          "name": "stdout",
          "text": [
            "Nombre total d'images dans le dossier d'entraînement : 1694\n",
            "Nombre total d'images dans le dossier de validation : 426\n"
          ]
        }
      ]
    },
    {
      "cell_type": "code",
      "source": [
        "import os\n",
        "import shutil\n",
        "from sklearn.model_selection import train_test_split\n",
        "from tensorflow.keras.preprocessing.image import ImageDataGenerator\n",
        "from tensorflow.keras.callbacks import TensorBoard, EarlyStopping\n",
        "import tensorflow as tf\n",
        "from tensorflow.keras import layers\n",
        "\n",
        "# Chemin vers le dossier contenant vos dossiers d'ensemble de données\n",
        "data_dir = '/content/datasets/Student-engagement-dataset'\n",
        "\n",
        "# Chemin vers le dossier où vous souhaitez placer les ensembles de traitement et de validation\n",
        "output_dir = '/content/datasets'\n",
        "\n",
        "# Liste des noms de dossiers dans votre ensemble de données\n",
        "folder_names = os.listdir(data_dir)\n",
        "\n",
        "# Création des dossiers de traitement et de validation s'ils n'existent pas déjà\n",
        "train_dir = os.path.join(output_dir, 'train')\n",
        "val_dir = os.path.join(output_dir, 'validation')\n",
        "os.makedirs(train_dir, exist_ok=True)\n",
        "os.makedirs(val_dir, exist_ok=True)\n",
        "\n",
        "# Répartition des données en ensembles de traitement et de validation\n",
        "for folder_name in folder_names:\n",
        "    folder_path = os.path.join(data_dir, folder_name)\n",
        "    images = os.listdir(folder_path)\n",
        "    train_images, val_images = train_test_split(images, test_size=0.2, random_state=42)\n",
        "\n",
        "    # Création des sous-dossiers dans les ensembles de traitement et de validation\n",
        "    train_folder_path = os.path.join(train_dir, folder_name)\n",
        "    val_folder_path = os.path.join(val_dir, folder_name)\n",
        "    os.makedirs(train_folder_path, exist_ok=True)\n",
        "    os.makedirs(val_folder_path, exist_ok=True)\n",
        "\n",
        "    # Déplacement des images dans les sous-dossiers correspondants\n",
        "    for image in train_images:\n",
        "        shutil.copy(os.path.join(folder_path, image), os.path.join(train_folder_path, image))\n",
        "    for image in val_images:\n",
        "        shutil.copy(os.path.join(folder_path, image), os.path.join(val_folder_path, image))\n",
        "\n",
        "print(\"Données divisées en ensembles de traitement et de validation avec succès.\")\n",
        "\n",
        "# Création des générateurs de données pour l'entraînement et la validation avec data augmentation\n",
        "train_datagen = ImageDataGenerator(\n",
        "    rescale=1./255,\n",
        "    rotation_range=10,\n",
        "    width_shift_range=0.1,\n",
        "    height_shift_range=0.1,\n",
        "    shear_range=0.1,\n",
        "    zoom_range=0.1,\n",
        "    horizontal_flip=True,\n",
        "    fill_mode='nearest')\n",
        "\n",
        "val_datagen = ImageDataGenerator(rescale=1./255)  # Pas de data augmentation sur l'ensemble de validation\n",
        "\n",
        "train_generator = train_datagen.flow_from_directory(\n",
        "    train_dir,\n",
        "    target_size=(200, 200),\n",
        "    batch_size=32,\n",
        "    class_mode='categorical')\n",
        "\n",
        "val_generator = val_datagen.flow_from_directory(\n",
        "    val_dir,\n",
        "    target_size=(200, 200),\n",
        "    batch_size=32,\n",
        "    class_mode='categorical')\n"
      ],
      "metadata": {
        "colab": {
          "base_uri": "https://localhost:8080/"
        },
        "id": "lYfrgKSbYwS4",
        "outputId": "d00b59c6-450b-4f63-a233-51e117a315d9"
      },
      "execution_count": 5,
      "outputs": [
        {
          "output_type": "stream",
          "name": "stdout",
          "text": [
            "Données divisées en ensembles de traitement et de validation avec succès.\n",
            "Found 1694 images belonging to 6 classes.\n",
            "Found 426 images belonging to 6 classes.\n"
          ]
        }
      ]
    },
    {
      "cell_type": "code",
      "source": [
        "# Calcul du nombre d'images d'origine dans l'ensemble d'entraînement et de validation\n",
        "num_train_images = sum(len(files) for _, _, files in os.walk(train_dir))\n",
        "num_val_images = sum(len(files) for _, _, files in os.walk(val_dir))\n",
        "\n",
        "# Calcul du nombre total de transformations appliquées à chaque image dans l'ensemble d'entraînement\n",
        "# En utilisant les paramètres de data augmentation spécifiés\n",
        "num_transformations_per_image = (1 + 10 + 1 + 1 + 1 + 1 + 1)  # Rotation + width_shift_range + height_shift_range + shear_range + zoom_range + horizontal_flip + fill_mode\n",
        "\n",
        "# Calcul du nouveau nombre d'images dans l'ensemble d'entraînement après data augmentation\n",
        "new_num_train_images = num_train_images * num_transformations_per_image\n",
        "\n",
        "print(\"Nombre d'images d'origine dans l'ensemble d'entraînement :\", num_train_images)\n",
        "print(\"Nombre d'images dans l'ensemble d'entraînement après data augmentation :\", new_num_train_images)\n",
        "\n",
        "# Calcul du nouveau nombre d'images dans l'ensemble de validation (aucune data augmentation)\n",
        "print(\"Nombre d'images d'origine dans l'ensemble de validation :\", num_val_images)\n"
      ],
      "metadata": {
        "colab": {
          "base_uri": "https://localhost:8080/"
        },
        "id": "0hHCWxFrai_o",
        "outputId": "223ccc8c-3735-45c5-f625-8320017d9ff2"
      },
      "execution_count": 7,
      "outputs": [
        {
          "output_type": "stream",
          "name": "stdout",
          "text": [
            "Nombre d'images d'origine dans l'ensemble d'entraînement : 1694\n",
            "Nombre d'images dans l'ensemble d'entraînement après data augmentation : 27104\n",
            "Nombre d'images d'origine dans l'ensemble de validation : 426\n"
          ]
        }
      ]
    },
    {
      "cell_type": "code",
      "source": [
        "# Création du modèle CNN\n",
        "num_classes = len(train_generator.class_indices)\n",
        "img_size = (200, 200, 3)\n",
        "\n",
        "model = tf.keras.Sequential([\n",
        "    layers.Conv2D(32, 3, activation='relu', input_shape=img_size),\n",
        "    layers.MaxPooling2D(),\n",
        "    layers.Conv2D(32, 3, activation='relu'),\n",
        "    layers.MaxPooling2D(),\n",
        "    layers.Conv2D(32, 3, activation='relu'),\n",
        "    layers.MaxPooling2D(),\n",
        "    layers.Flatten(),\n",
        "    layers.Dense(128, activation='relu'),\n",
        "    layers.Dense(num_classes, activation='softmax')\n",
        "])\n",
        "\n",
        "model.summary()\n",
        "\n",
        "# Callbacks TensorBoard et EarlyStopping\n",
        "log_dir = \"logs/\"\n",
        "tensorboard_callback = TensorBoard(log_dir=log_dir, histogram_freq=1, write_images=True)\n",
        "early_stopping = EarlyStopping(monitor='val_loss', patience=5, restore_best_weights=True)\n",
        "\n",
        "# Compilation du modèle\n",
        "model.compile(optimizer='adam', loss=\"categorical_crossentropy\", metrics=['accuracy'])\n",
        "\n",
        "# Entraînement du modèle\n",
        "history = model.fit(\n",
        "    train_generator,\n",
        "    validation_data=val_generator,\n",
        "    epochs=100,\n",
        "    callbacks=[tensorboard_callback, early_stopping])\n",
        "\n"
      ],
      "metadata": {
        "id": "5Whbf5Gw5ftn",
        "colab": {
          "base_uri": "https://localhost:8080/"
        },
        "outputId": "efa30306-815d-45be-8b72-f795bb14bf91"
      },
      "execution_count": 11,
      "outputs": [
        {
          "output_type": "stream",
          "name": "stdout",
          "text": [
            "Model: \"sequential\"\n",
            "_________________________________________________________________\n",
            " Layer (type)                Output Shape              Param #   \n",
            "=================================================================\n",
            " conv2d (Conv2D)             (None, 198, 198, 32)      896       \n",
            "                                                                 \n",
            " max_pooling2d (MaxPooling2  (None, 99, 99, 32)        0         \n",
            " D)                                                              \n",
            "                                                                 \n",
            " conv2d_1 (Conv2D)           (None, 97, 97, 32)        9248      \n",
            "                                                                 \n",
            " max_pooling2d_1 (MaxPoolin  (None, 48, 48, 32)        0         \n",
            " g2D)                                                            \n",
            "                                                                 \n",
            " conv2d_2 (Conv2D)           (None, 46, 46, 32)        9248      \n",
            "                                                                 \n",
            " max_pooling2d_2 (MaxPoolin  (None, 23, 23, 32)        0         \n",
            " g2D)                                                            \n",
            "                                                                 \n",
            " flatten (Flatten)           (None, 16928)             0         \n",
            "                                                                 \n",
            " dense (Dense)               (None, 128)               2166912   \n",
            "                                                                 \n",
            " dense_1 (Dense)             (None, 6)                 774       \n",
            "                                                                 \n",
            "=================================================================\n",
            "Total params: 2187078 (8.34 MB)\n",
            "Trainable params: 2187078 (8.34 MB)\n",
            "Non-trainable params: 0 (0.00 Byte)\n",
            "_________________________________________________________________\n",
            "Epoch 1/100\n",
            "53/53 [==============================] - 134s 2s/step - loss: 1.2259 - accuracy: 0.4988 - val_loss: 0.6618 - val_accuracy: 0.5869\n",
            "Epoch 2/100\n",
            "53/53 [==============================] - 118s 2s/step - loss: 0.6317 - accuracy: 0.7285 - val_loss: 0.6112 - val_accuracy: 0.7160\n",
            "Epoch 3/100\n",
            "53/53 [==============================] - 114s 2s/step - loss: 0.5170 - accuracy: 0.7715 - val_loss: 0.4228 - val_accuracy: 0.7911\n",
            "Epoch 4/100\n",
            "53/53 [==============================] - 115s 2s/step - loss: 0.4465 - accuracy: 0.8093 - val_loss: 0.2918 - val_accuracy: 0.8920\n",
            "Epoch 5/100\n",
            "53/53 [==============================] - 118s 2s/step - loss: 0.3738 - accuracy: 0.8341 - val_loss: 0.3817 - val_accuracy: 0.8099\n",
            "Epoch 6/100\n",
            "53/53 [==============================] - 120s 2s/step - loss: 0.3601 - accuracy: 0.8430 - val_loss: 0.5156 - val_accuracy: 0.7723\n",
            "Epoch 7/100\n",
            "53/53 [==============================] - 117s 2s/step - loss: 0.3074 - accuracy: 0.8648 - val_loss: 0.2946 - val_accuracy: 0.8286\n",
            "Epoch 8/100\n",
            "53/53 [==============================] - 119s 2s/step - loss: 0.2993 - accuracy: 0.8731 - val_loss: 0.3472 - val_accuracy: 0.8122\n",
            "Epoch 9/100\n",
            "53/53 [==============================] - 118s 2s/step - loss: 0.2465 - accuracy: 0.8949 - val_loss: 0.2143 - val_accuracy: 0.8709\n",
            "Epoch 10/100\n",
            "53/53 [==============================] - 116s 2s/step - loss: 0.2203 - accuracy: 0.9109 - val_loss: 0.1823 - val_accuracy: 0.8873\n",
            "Epoch 11/100\n",
            "53/53 [==============================] - 114s 2s/step - loss: 0.1650 - accuracy: 0.9280 - val_loss: 0.1681 - val_accuracy: 0.9085\n",
            "Epoch 12/100\n",
            "53/53 [==============================] - 113s 2s/step - loss: 0.1730 - accuracy: 0.9238 - val_loss: 0.2432 - val_accuracy: 0.8850\n",
            "Epoch 13/100\n",
            "53/53 [==============================] - 117s 2s/step - loss: 0.1602 - accuracy: 0.9315 - val_loss: 0.2054 - val_accuracy: 0.9038\n",
            "Epoch 14/100\n",
            "53/53 [==============================] - 116s 2s/step - loss: 0.1493 - accuracy: 0.9368 - val_loss: 0.1273 - val_accuracy: 0.9460\n",
            "Epoch 15/100\n",
            "53/53 [==============================] - 112s 2s/step - loss: 0.1382 - accuracy: 0.9345 - val_loss: 0.2306 - val_accuracy: 0.8498\n",
            "Epoch 16/100\n",
            "53/53 [==============================] - 121s 2s/step - loss: 0.1826 - accuracy: 0.9227 - val_loss: 0.1961 - val_accuracy: 0.8944\n",
            "Epoch 17/100\n",
            "53/53 [==============================] - 117s 2s/step - loss: 0.1367 - accuracy: 0.9362 - val_loss: 0.1109 - val_accuracy: 0.9460\n",
            "Epoch 18/100\n",
            "53/53 [==============================] - 116s 2s/step - loss: 0.1388 - accuracy: 0.9416 - val_loss: 0.1576 - val_accuracy: 0.8920\n",
            "Epoch 19/100\n",
            "53/53 [==============================] - 115s 2s/step - loss: 0.1307 - accuracy: 0.9469 - val_loss: 0.1247 - val_accuracy: 0.9507\n",
            "Epoch 20/100\n",
            "53/53 [==============================] - 117s 2s/step - loss: 0.1225 - accuracy: 0.9451 - val_loss: 0.1094 - val_accuracy: 0.9507\n",
            "Epoch 21/100\n",
            "53/53 [==============================] - 115s 2s/step - loss: 0.1231 - accuracy: 0.9398 - val_loss: 0.1068 - val_accuracy: 0.9460\n",
            "Epoch 22/100\n",
            "53/53 [==============================] - 118s 2s/step - loss: 0.1204 - accuracy: 0.9475 - val_loss: 0.1092 - val_accuracy: 0.9507\n",
            "Epoch 23/100\n",
            "53/53 [==============================] - 117s 2s/step - loss: 0.1126 - accuracy: 0.9516 - val_loss: 0.1151 - val_accuracy: 0.9507\n",
            "Epoch 24/100\n",
            "53/53 [==============================] - 117s 2s/step - loss: 0.1202 - accuracy: 0.9457 - val_loss: 0.1049 - val_accuracy: 0.9484\n",
            "Epoch 25/100\n",
            "53/53 [==============================] - 114s 2s/step - loss: 0.1202 - accuracy: 0.9498 - val_loss: 0.1577 - val_accuracy: 0.8944\n",
            "Epoch 26/100\n",
            "53/53 [==============================] - 115s 2s/step - loss: 0.1186 - accuracy: 0.9445 - val_loss: 0.1362 - val_accuracy: 0.8991\n",
            "Epoch 27/100\n",
            "53/53 [==============================] - 116s 2s/step - loss: 0.1172 - accuracy: 0.9510 - val_loss: 0.1085 - val_accuracy: 0.9554\n",
            "Epoch 28/100\n",
            "53/53 [==============================] - 117s 2s/step - loss: 0.1122 - accuracy: 0.9486 - val_loss: 0.1051 - val_accuracy: 0.9460\n",
            "Epoch 29/100\n",
            "53/53 [==============================] - 118s 2s/step - loss: 0.1021 - accuracy: 0.9510 - val_loss: 0.1018 - val_accuracy: 0.9484\n",
            "Epoch 30/100\n",
            "53/53 [==============================] - 116s 2s/step - loss: 0.1202 - accuracy: 0.9445 - val_loss: 0.1131 - val_accuracy: 0.9507\n",
            "Epoch 31/100\n",
            "53/53 [==============================] - 116s 2s/step - loss: 0.1501 - accuracy: 0.9315 - val_loss: 0.1139 - val_accuracy: 0.9413\n",
            "Epoch 32/100\n",
            "53/53 [==============================] - 116s 2s/step - loss: 0.1340 - accuracy: 0.9398 - val_loss: 0.1025 - val_accuracy: 0.9460\n",
            "Epoch 33/100\n",
            "53/53 [==============================] - 113s 2s/step - loss: 0.1044 - accuracy: 0.9463 - val_loss: 0.1185 - val_accuracy: 0.9460\n",
            "Epoch 34/100\n",
            "53/53 [==============================] - 118s 2s/step - loss: 0.1108 - accuracy: 0.9486 - val_loss: 0.1144 - val_accuracy: 0.9460\n"
          ]
        }
      ]
    },
    {
      "cell_type": "code",
      "source": [
        "# Evaluate the model\n",
        "loss, accuracy = model.evaluate(val_generator, verbose=0)\n",
        "print(f'vall loss: {loss:.4f}')\n",
        "print(f'vall accuracy: {accuracy:.4f}')"
      ],
      "metadata": {
        "colab": {
          "base_uri": "https://localhost:8080/"
        },
        "id": "kl4tFRnZS-X3",
        "outputId": "3da40322-e01f-4a1c-8e7d-dc1032ae3825"
      },
      "execution_count": 12,
      "outputs": [
        {
          "output_type": "stream",
          "name": "stdout",
          "text": [
            "vall loss: 0.1018\n",
            "vall accuracy: 0.9484\n"
          ]
        }
      ]
    },
    {
      "cell_type": "code",
      "source": [
        "plt.plot(history.history[\"accuracy\"])\n",
        "plt.plot(history.history['val_accuracy'])\n",
        "plt.title(\"model accuracy\")\n",
        "plt.ylabel(\"Accuracy\")\n",
        "plt.xlabel(\"Epoch\")\n",
        "plt.legend([\"Accuracy\",\"Validation Accuracy\"])\n",
        "plt.show()"
      ],
      "metadata": {
        "colab": {
          "base_uri": "https://localhost:8080/",
          "height": 472
        },
        "id": "dTEswXCQXXo_",
        "outputId": "866e07c8-b7c0-4000-e677-c72b0f72eb32"
      },
      "execution_count": 13,
      "outputs": [
        {
          "output_type": "display_data",
          "data": {
            "text/plain": [
              "<Figure size 640x480 with 1 Axes>"
            ],
            "image/png": "[encoded data removed]"
          },
          "metadata": {}
        }
      ]
    },
    {
      "cell_type": "code",
      "source": [
        "plt.plot(history.history[\"loss\"])\n",
        "plt.plot(history.history['val_loss'])\n",
        "plt.title(\"model loss\")\n",
        "plt.ylabel(\"loss\")\n",
        "plt.xlabel(\"Epoch\")\n",
        "plt.legend([\"loss\",\"Validation loss\"])\n",
        "plt.show()"
      ],
      "metadata": {
        "colab": {
          "base_uri": "https://localhost:8080/",
          "height": 472
        },
        "id": "JHZg72TPZW1p",
        "outputId": "150d96df-c648-4a30-97be-0018353bafd8"
      },
      "execution_count": 14,
      "outputs": [
        {
          "output_type": "display_data",
          "data": {
            "text/plain": [
              "<Figure size 640x480 with 1 Axes>"
            ],
            "image/png": "[encoded data removed]"
          },
          "metadata": {}
        }
      ]
    },
    {
      "cell_type": "code",
      "source": [],
      "metadata": {
        "id": "lttUulloZdK1"
      },
      "execution_count": null,
      "outputs": []
    }
  ]
}