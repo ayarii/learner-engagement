{
  "nbformat": 4,
  "nbformat_minor": 0,
  "metadata": {
    "colab": {
      "provenance": [],
      "gpuType": "T4",
      "include_colab_link": true
    },
    "kernelspec": {
      "name": "python3",
      "display_name": "Python 3"
    },
    "language_info": {
      "name": "python"
    },
    "accelerator": "GPU"
  },
  "cells": [
    {
      "cell_type": "markdown",
      "metadata": {
        "id": "view-in-github",
        "colab_type": "text"
      },
      "source": [
        "<a href=\"https://colab.research.google.com/github/ayarii/learner-engagement/blob/main/CNN%2BDA_(validation%2Btraitement).ipynb\" target=\"_parent\"><img src=\"https://colab.research.google.com/assets/colab-badge.svg\" alt=\"Open In Colab\"/></a>"
      ]
    },
    {
      "cell_type": "code",
      "execution_count": 1,
      "metadata": {
        "id": "P0FFga0fefUj"
      },
      "outputs": [],
      "source": [
        "import cv2\n",
        "import numpy as np\n",
        "import requests\n",
        "import matplotlib.pyplot as plt\n",
        "import matplotlib.image as mpimg\n",
        "import sys\n",
        "import datetime\n",
        "from tensorflow import keras\n",
        "from tensorflow.keras.models import Model\n",
        "import tensorflow as tf\n",
        "import pathlib\n",
        "import os\n",
        "import zipfile\n",
        "from tensorflow.keras.callbacks import EarlyStopping\n",
        "from sklearn.metrics import roc_curve, auc\n",
        "from tensorflow.keras import layers\n",
        "from keras.models import Sequential\n",
        "from keras.layers import Conv2D, MaxPooling2D, Flatten, Dense, Dropout, Activation\n",
        "from tensorflow.keras import layers, callbacks\n",
        "from tensorflow.keras.preprocessing.image import ImageDataGenerator\n",
        "from sklearn.model_selection import train_test_split\n",
        "\n"
      ]
    },
    {
      "cell_type": "code",
      "source": [
        "\n",
        "#Import dataset\n",
        "data_dir = tf.keras.utils.get_file(\n",
        "    \"dataset.zip\",\n",
        "    \"https://github.com/ayarii/learner-engagement/blob/main/Student-engagement-dataset.zip?raw=true\",\n",
        "    extract=False)\n",
        "with zipfile.ZipFile(data_dir, 'r') as zip_ref:\n",
        "    zip_ref.extractall('/content/datasets')\n",
        "data_dir = pathlib.Path('/content/datasets/Student-engagement-dataset')\n",
        "print(data_dir)\n",
        "print(os.path.abspath(data_dir))\n",
        "\n"
      ],
      "metadata": {
        "colab": {
          "base_uri": "https://localhost:8080/"
        },
        "id": "o2inyj7UlaDz",
        "outputId": "e51b274a-f84e-4229-c72f-0f7c8134a361"
      },
      "execution_count": 2,
      "outputs": [
        {
          "output_type": "stream",
          "name": "stdout",
          "text": [
            "Downloading data from https://github.com/ayarii/learner-engagement/blob/main/Student-engagement-dataset.zip?raw=true\n",
            "40069772/40069772 [==============================] - 1s 0us/step\n",
            "/content/datasets/Student-engagement-dataset\n",
            "/content/datasets/Student-engagement-dataset\n"
          ]
        }
      ]
    },
    {
      "cell_type": "code",
      "source": [
        "import shutil\n",
        "\n",
        "# Chemin vers le dossier contenant vos dossiers d'ensemble de données\n",
        "data_dir = '/content/datasets/Student-engagement-dataset'\n",
        "\n",
        "# Chemin vers le dossier où vous souhaitez placer les ensembles de traitement et de validation\n",
        "output_dir = '/content/datasets'\n",
        "\n",
        "# Liste des noms de dossiers dans votre ensemble de données\n",
        "folder_names = os.listdir(data_dir)\n",
        "\n",
        "# Création des dossiers de traitement et de validation s'ils n'existent pas déjà\n",
        "train_dir = os.path.join(output_dir, 'train')\n",
        "val_dir = os.path.join(output_dir, 'validation')\n",
        "os.makedirs(train_dir, exist_ok=True)\n",
        "os.makedirs(val_dir, exist_ok=True)\n",
        "\n",
        "# Répartition des données en ensembles de traitement et de validation\n",
        "for folder_name in folder_names:\n",
        "    folder_path = os.path.join(data_dir, folder_name)\n",
        "    images = os.listdir(folder_path)\n",
        "    train_images, val_images = train_test_split(images, test_size=0.2, random_state=42)\n",
        "\n",
        "    # Création des sous-dossiers dans les ensembles de traitement et de validation\n",
        "    train_folder_path = os.path.join(train_dir, folder_name)\n",
        "    val_folder_path = os.path.join(val_dir, folder_name)\n",
        "    os.makedirs(train_folder_path, exist_ok=True)\n",
        "    os.makedirs(val_folder_path, exist_ok=True)\n",
        "\n",
        "    # Déplacement des images dans les sous-dossiers correspondants\n",
        "    for image in train_images:\n",
        "        shutil.copy(os.path.join(folder_path, image), os.path.join(train_folder_path, image))\n",
        "    for image in val_images:\n",
        "        shutil.copy(os.path.join(folder_path, image), os.path.join(val_folder_path, image))\n",
        "\n",
        "print(\"Données divisées en ensembles de traitement et de validation avec succès.\")\n",
        "\n"
      ],
      "metadata": {
        "colab": {
          "base_uri": "https://localhost:8080/"
        },
        "id": "i4u-fb0d1CbA",
        "outputId": "3842aee8-0e65-483d-b345-12ddd2b8d6c9"
      },
      "execution_count": 3,
      "outputs": [
        {
          "output_type": "stream",
          "name": "stdout",
          "text": [
            "Données divisées en ensembles de traitement et de validation avec succès.\n"
          ]
        }
      ]
    },
    {
      "cell_type": "code",
      "source": [
        "# Chemin vers les dossiers d'entraînement et de validation\n",
        "train_dir = '/content/datasets/train/'\n",
        "val_dir = '/content/datasets/validation/'\n",
        "\n",
        "# Fonction pour compter le nombre total d'images dans un dossier\n",
        "def count_images_in_directory(directory):\n",
        "    total_images = 0\n",
        "    # Parcours de chaque sous-dossier dans le répertoire\n",
        "    for sub_directory in os.listdir(directory):\n",
        "        sub_directory_path = os.path.join(directory, sub_directory)\n",
        "        # Comptage des fichiers dans le sous-dossier\n",
        "        if os.path.isdir(sub_directory_path):\n",
        "            num_images = len([filename for filename in os.listdir(sub_directory_path)\n",
        "                              if filename.endswith('.jpg') or filename.endswith('.png') or filename.endswith('.jpeg')])\n",
        "            total_images += num_images\n",
        "    return total_images\n",
        "\n",
        "# Comptage du nombre total d'images dans chaque dossier\n",
        "total_train_images = count_images_in_directory(train_dir)\n",
        "total_val_images = count_images_in_directory(val_dir)\n",
        "\n",
        "# Affichage du nombre total d'images dans chaque dossier\n",
        "print(\"Nombre total d'images dans le dossier d'entraînement :\", total_train_images)\n",
        "print(\"Nombre total d'images dans le dossier de validation :\", total_val_images)\n"
      ],
      "metadata": {
        "colab": {
          "base_uri": "https://localhost:8080/"
        },
        "id": "Y8FJvkBN1XmG",
        "outputId": "11921dce-46de-4c7a-d1bc-4548667b1d7c"
      },
      "execution_count": 4,
      "outputs": [
        {
          "output_type": "stream",
          "name": "stdout",
          "text": [
            "Nombre total d'images dans le dossier d'entraînement : 1694\n",
            "Nombre total d'images dans le dossier de validation : 426\n"
          ]
        }
      ]
    },
    {
      "cell_type": "code",
      "source": [
        "import os\n",
        "import shutil\n",
        "from sklearn.model_selection import train_test_split\n",
        "from tensorflow.keras.preprocessing.image import ImageDataGenerator\n",
        "from tensorflow.keras.callbacks import TensorBoard, EarlyStopping\n",
        "import tensorflow as tf\n",
        "from tensorflow.keras import layers\n",
        "\n",
        "# Chemin vers le dossier contenant vos dossiers d'ensemble de données\n",
        "data_dir = '/content/datasets/Student-engagement-dataset'\n",
        "\n",
        "# Chemin vers le dossier où vous souhaitez placer les ensembles de traitement et de validation\n",
        "output_dir = '/content/datasets'\n",
        "\n",
        "# Liste des noms de dossiers dans votre ensemble de données\n",
        "folder_names = os.listdir(data_dir)\n",
        "\n",
        "# Création des dossiers de traitement et de validation s'ils n'existent pas déjà\n",
        "train_dir = os.path.join(output_dir, 'train')\n",
        "val_dir = os.path.join(output_dir, 'validation')\n",
        "os.makedirs(train_dir, exist_ok=True)\n",
        "os.makedirs(val_dir, exist_ok=True)\n",
        "\n",
        "# Répartition des données en ensembles de traitement et de validation\n",
        "for folder_name in folder_names:\n",
        "    folder_path = os.path.join(data_dir, folder_name)\n",
        "    images = os.listdir(folder_path)\n",
        "    train_images, val_images = train_test_split(images, test_size=0.2, random_state=42)\n",
        "\n",
        "    # Création des sous-dossiers dans les ensembles de traitement et de validation\n",
        "    train_folder_path = os.path.join(train_dir, folder_name)\n",
        "    val_folder_path = os.path.join(val_dir, folder_name)\n",
        "    os.makedirs(train_folder_path, exist_ok=True)\n",
        "    os.makedirs(val_folder_path, exist_ok=True)\n",
        "\n",
        "    # Déplacement des images dans les sous-dossiers correspondants\n",
        "    for image in train_images:\n",
        "        shutil.copy(os.path.join(folder_path, image), os.path.join(train_folder_path, image))\n",
        "    for image in val_images:\n",
        "        shutil.copy(os.path.join(folder_path, image), os.path.join(val_folder_path, image))\n",
        "\n",
        "print(\"Données divisées en ensembles de traitement et de validation avec succès.\")\n",
        "\n",
        "# Création des générateurs de données pour l'entraînement et la validation avec data augmentation\n",
        "train_datagen = ImageDataGenerator(\n",
        "    rescale=1./255,\n",
        "    rotation_range=10,\n",
        "    width_shift_range=0.1,\n",
        "    height_shift_range=0.1,\n",
        "    shear_range=0.1,\n",
        "    zoom_range=0.1,\n",
        "    horizontal_flip=True,\n",
        "    fill_mode='nearest')\n",
        "\n",
        "val_datagen = ImageDataGenerator(rescale=1./255)  # Pas de data augmentation sur l'ensemble de validation\n",
        "\n",
        "train_generator = train_datagen.flow_from_directory(\n",
        "    train_dir,\n",
        "    target_size=(200, 200),\n",
        "    batch_size=32,\n",
        "    class_mode='categorical')\n",
        "\n",
        "val_generator = val_datagen.flow_from_directory(\n",
        "    val_dir,\n",
        "    target_size=(200, 200),\n",
        "    batch_size=32,\n",
        "    class_mode='categorical')\n"
      ],
      "metadata": {
        "colab": {
          "base_uri": "https://localhost:8080/"
        },
        "id": "lYfrgKSbYwS4",
        "outputId": "358b0117-0780-474f-d771-317dd2d5c6f7"
      },
      "execution_count": 5,
      "outputs": [
        {
          "output_type": "stream",
          "name": "stdout",
          "text": [
            "Données divisées en ensembles de traitement et de validation avec succès.\n",
            "Found 1694 images belonging to 6 classes.\n",
            "Found 426 images belonging to 6 classes.\n"
          ]
        }
      ]
    },
    {
      "cell_type": "code",
      "source": [
        "# Calcul du nombre d'images d'origine dans l'ensemble d'entraînement et de validation\n",
        "num_train_images = sum(len(files) for _, _, files in os.walk(train_dir))\n",
        "num_val_images = sum(len(files) for _, _, files in os.walk(val_dir))\n",
        "\n",
        "# Calcul du nombre total de transformations appliquées à chaque image dans l'ensemble d'entraînement\n",
        "# En utilisant les paramètres de data augmentation spécifiés\n",
        "num_transformations_per_image = (1 + 10 + 1 + 1 + 1 + 1 + 1)  # Rotation + width_shift_range + height_shift_range + shear_range + zoom_range + horizontal_flip + fill_mode\n",
        "\n",
        "# Calcul du nouveau nombre d'images dans l'ensemble d'entraînement après data augmentation\n",
        "new_num_train_images = num_train_images * num_transformations_per_image\n",
        "\n",
        "print(\"Nombre d'images d'origine dans l'ensemble d'entraînement :\", num_train_images)\n",
        "print(\"Nombre d'images dans l'ensemble d'entraînement après data augmentation :\", new_num_train_images)\n",
        "\n",
        "# Calcul du nouveau nombre d'images dans l'ensemble de validation (aucune data augmentation)\n",
        "print(\"Nombre d'images d'origine dans l'ensemble de validation :\", num_val_images)\n"
      ],
      "metadata": {
        "colab": {
          "base_uri": "https://localhost:8080/"
        },
        "id": "0hHCWxFrai_o",
        "outputId": "9c206c3b-4349-4cdc-e057-45e0ce0b5fc1"
      },
      "execution_count": 6,
      "outputs": [
        {
          "output_type": "stream",
          "name": "stdout",
          "text": [
            "Nombre d'images d'origine dans l'ensemble d'entraînement : 1694\n",
            "Nombre d'images dans l'ensemble d'entraînement après data augmentation : 27104\n",
            "Nombre d'images d'origine dans l'ensemble de validation : 426\n"
          ]
        }
      ]
    },
    {
      "cell_type": "code",
      "source": [
        "# Création du modèle CNN\n",
        "num_classes = len(train_generator.class_indices)\n",
        "img_size = (200, 200, 3)\n",
        "\n",
        "model = tf.keras.Sequential([\n",
        "    layers.Conv2D(32, 3, activation='relu', input_shape=img_size),\n",
        "    layers.MaxPooling2D(),\n",
        "    layers.Conv2D(32, 3, activation='relu'),\n",
        "    layers.MaxPooling2D(),\n",
        "    layers.Conv2D(32, 3, activation='relu'),\n",
        "    layers.MaxPooling2D(),\n",
        "    layers.Flatten(),\n",
        "    layers.Dense(128, activation='relu'),\n",
        "    layers.Dense(num_classes, activation='softmax')\n",
        "])\n",
        "\n",
        "model.summary()\n",
        "\n",
        "# Callbacks TensorBoard et EarlyStopping\n",
        "log_dir = \"logs/\"\n",
        "tensorboard_callback = TensorBoard(log_dir=log_dir, histogram_freq=1, write_images=True)\n",
        "early_stopping = EarlyStopping(monitor='val_loss', patience=5, restore_best_weights=True)\n",
        "\n",
        "# Compilation du modèle\n",
        "model.compile(optimizer='adam', loss=\"categorical_crossentropy\", metrics=['accuracy'])\n",
        "\n",
        "# Entraînement du modèle\n",
        "history = model.fit(\n",
        "    train_generator,\n",
        "    validation_data=val_generator,\n",
        "    epochs=100,\n",
        "    callbacks=[tensorboard_callback, early_stopping])\n",
        "\n"
      ],
      "metadata": {
        "id": "5Whbf5Gw5ftn",
        "colab": {
          "base_uri": "https://localhost:8080/"
        },
        "outputId": "72adacb3-72a5-4859-c7c9-9bf512474b85"
      },
      "execution_count": 12,
      "outputs": [
        {
          "output_type": "stream",
          "name": "stdout",
          "text": [
            "Model: \"sequential_1\"\n",
            "_________________________________________________________________\n",
            " Layer (type)                Output Shape              Param #   \n",
            "=================================================================\n",
            " conv2d_3 (Conv2D)           (None, 198, 198, 32)      896       \n",
            "                                                                 \n",
            " max_pooling2d_3 (MaxPoolin  (None, 99, 99, 32)        0         \n",
            " g2D)                                                            \n",
            "                                                                 \n",
            " conv2d_4 (Conv2D)           (None, 97, 97, 32)        9248      \n",
            "                                                                 \n",
            " max_pooling2d_4 (MaxPoolin  (None, 48, 48, 32)        0         \n",
            " g2D)                                                            \n",
            "                                                                 \n",
            " conv2d_5 (Conv2D)           (None, 46, 46, 32)        9248      \n",
            "                                                                 \n",
            " max_pooling2d_5 (MaxPoolin  (None, 23, 23, 32)        0         \n",
            " g2D)                                                            \n",
            "                                                                 \n",
            " flatten_1 (Flatten)         (None, 16928)             0         \n",
            "                                                                 \n",
            " dense_2 (Dense)             (None, 128)               2166912   \n",
            "                                                                 \n",
            " dense_3 (Dense)             (None, 6)                 774       \n",
            "                                                                 \n",
            "=================================================================\n",
            "Total params: 2187078 (8.34 MB)\n",
            "Trainable params: 2187078 (8.34 MB)\n",
            "Non-trainable params: 0 (0.00 Byte)\n",
            "_________________________________________________________________\n",
            "Epoch 1/100\n",
            "53/53 [==============================] - 128s 2s/step - loss: 1.0099 - accuracy: 0.5773 - val_loss: 0.4585 - val_accuracy: 0.8709\n",
            "Epoch 2/100\n",
            "53/53 [==============================] - 130s 2s/step - loss: 0.5035 - accuracy: 0.7615 - val_loss: 0.3178 - val_accuracy: 0.9296\n",
            "Epoch 3/100\n",
            "53/53 [==============================] - 127s 2s/step - loss: 0.4103 - accuracy: 0.8093 - val_loss: 0.2862 - val_accuracy: 0.8662\n",
            "Epoch 4/100\n",
            "53/53 [==============================] - 129s 2s/step - loss: 0.3917 - accuracy: 0.8188 - val_loss: 0.5296 - val_accuracy: 0.7746\n",
            "Epoch 5/100\n",
            "53/53 [==============================] - 130s 2s/step - loss: 0.3306 - accuracy: 0.8548 - val_loss: 0.2297 - val_accuracy: 0.9131\n",
            "Epoch 6/100\n",
            "53/53 [==============================] - 127s 2s/step - loss: 0.2895 - accuracy: 0.8749 - val_loss: 0.2266 - val_accuracy: 0.8850\n",
            "Epoch 7/100\n",
            "53/53 [==============================] - 128s 2s/step - loss: 0.2590 - accuracy: 0.8985 - val_loss: 0.1674 - val_accuracy: 0.9460\n",
            "Epoch 8/100\n",
            "53/53 [==============================] - 121s 2s/step - loss: 0.2670 - accuracy: 0.8778 - val_loss: 0.1814 - val_accuracy: 0.9178\n",
            "Epoch 9/100\n",
            "53/53 [==============================] - 127s 2s/step - loss: 0.2172 - accuracy: 0.9073 - val_loss: 0.1338 - val_accuracy: 0.9390\n",
            "Epoch 10/100\n",
            "53/53 [==============================] - 125s 2s/step - loss: 0.1665 - accuracy: 0.9357 - val_loss: 0.2598 - val_accuracy: 0.8732\n",
            "Epoch 11/100\n",
            "53/53 [==============================] - 128s 2s/step - loss: 0.1538 - accuracy: 0.9286 - val_loss: 0.1305 - val_accuracy: 0.9460\n",
            "Epoch 12/100\n",
            "53/53 [==============================] - 120s 2s/step - loss: 0.1326 - accuracy: 0.9469 - val_loss: 0.1230 - val_accuracy: 0.9460\n",
            "Epoch 13/100\n",
            "53/53 [==============================] - 121s 2s/step - loss: 0.1289 - accuracy: 0.9421 - val_loss: 0.1292 - val_accuracy: 0.9061\n",
            "Epoch 14/100\n",
            "53/53 [==============================] - 121s 2s/step - loss: 0.1279 - accuracy: 0.9398 - val_loss: 0.1149 - val_accuracy: 0.9460\n",
            "Epoch 15/100\n",
            "53/53 [==============================] - 119s 2s/step - loss: 0.1263 - accuracy: 0.9457 - val_loss: 0.1943 - val_accuracy: 0.8732\n",
            "Epoch 16/100\n",
            "53/53 [==============================] - 120s 2s/step - loss: 0.1312 - accuracy: 0.9421 - val_loss: 0.1114 - val_accuracy: 0.9484\n",
            "Epoch 17/100\n",
            "53/53 [==============================] - 119s 2s/step - loss: 0.1190 - accuracy: 0.9451 - val_loss: 0.1189 - val_accuracy: 0.9484\n",
            "Epoch 18/100\n",
            "53/53 [==============================] - 120s 2s/step - loss: 0.1251 - accuracy: 0.9492 - val_loss: 0.1533 - val_accuracy: 0.9178\n",
            "Epoch 19/100\n",
            "53/53 [==============================] - 116s 2s/step - loss: 0.1281 - accuracy: 0.9439 - val_loss: 0.1054 - val_accuracy: 0.9507\n",
            "Epoch 20/100\n",
            "53/53 [==============================] - 121s 2s/step - loss: 0.0942 - accuracy: 0.9545 - val_loss: 0.1111 - val_accuracy: 0.9531\n",
            "Epoch 21/100\n",
            "53/53 [==============================] - 123s 2s/step - loss: 0.1148 - accuracy: 0.9451 - val_loss: 0.1017 - val_accuracy: 0.9507\n",
            "Epoch 22/100\n",
            "53/53 [==============================] - 121s 2s/step - loss: 0.1071 - accuracy: 0.9504 - val_loss: 0.1060 - val_accuracy: 0.9531\n",
            "Epoch 23/100\n",
            "53/53 [==============================] - 121s 2s/step - loss: 0.1069 - accuracy: 0.9522 - val_loss: 0.1375 - val_accuracy: 0.9390\n",
            "Epoch 24/100\n",
            "53/53 [==============================] - 122s 2s/step - loss: 0.1010 - accuracy: 0.9540 - val_loss: 0.1023 - val_accuracy: 0.9507\n",
            "Epoch 25/100\n",
            "53/53 [==============================] - 120s 2s/step - loss: 0.1127 - accuracy: 0.9498 - val_loss: 0.1009 - val_accuracy: 0.9507\n",
            "Epoch 26/100\n",
            "53/53 [==============================] - 124s 2s/step - loss: 0.1001 - accuracy: 0.9528 - val_loss: 0.1029 - val_accuracy: 0.9554\n",
            "Epoch 27/100\n",
            "53/53 [==============================] - 122s 2s/step - loss: 0.0997 - accuracy: 0.9545 - val_loss: 0.1084 - val_accuracy: 0.9460\n",
            "Epoch 28/100\n",
            "53/53 [==============================] - 123s 2s/step - loss: 0.1285 - accuracy: 0.9469 - val_loss: 0.3590 - val_accuracy: 0.8192\n",
            "Epoch 29/100\n",
            "53/53 [==============================] - 124s 2s/step - loss: 0.2170 - accuracy: 0.9156 - val_loss: 0.1233 - val_accuracy: 0.9366\n",
            "Epoch 30/100\n",
            "53/53 [==============================] - 120s 2s/step - loss: 0.1455 - accuracy: 0.9374 - val_loss: 0.1072 - val_accuracy: 0.9531\n"
          ]
        }
      ]
    },
    {
      "cell_type": "code",
      "source": [
        "# Evaluate the model\n",
        "loss, accuracy = model.evaluate(val_generator, verbose=0)\n",
        "print(f'vall loss: {loss:.4f}')\n",
        "print(f'vall accuracy: {accuracy:.4f}')"
      ],
      "metadata": {
        "colab": {
          "base_uri": "https://localhost:8080/"
        },
        "id": "kl4tFRnZS-X3",
        "outputId": "2edd00af-114b-4a4d-81c6-453907112519"
      },
      "execution_count": 8,
      "outputs": [
        {
          "output_type": "stream",
          "name": "stdout",
          "text": [
            "vall loss: 0.1137\n",
            "vall accuracy: 0.9484\n"
          ]
        }
      ]
    },
    {
      "cell_type": "code",
      "source": [
        "plt.plot(history.history[\"accuracy\"])\n",
        "plt.plot(history.history['val_accuracy'])\n",
        "plt.title(\"model accuracy\")\n",
        "plt.ylabel(\"Accuracy\")\n",
        "plt.xlabel(\"Epoch\")\n",
        "plt.legend([\"Accuracy\",\"Validation Accuracy\"])\n",
        "plt.show()"
      ],
      "metadata": {
        "colab": {
          "base_uri": "https://localhost:8080/",
          "height": 472
        },
        "id": "dTEswXCQXXo_",
        "outputId": "bd070732-8e06-4d53-d72d-83dbf3545314"
      },
      "execution_count": 11,
      "outputs": [
        {
          "output_type": "display_data",
          "data": {
            "text/plain": [
              "<Figure size 640x480 with 1 Axes>"
            ],
            "image/png": "[encoded data removed]"
          },
          "metadata": {}
        }
      ]
    },
    {
      "cell_type": "code",
      "source": [
        "plt.plot(history.history[\"loss\"])\n",
        "plt.plot(history.history['val_loss'])\n",
        "plt.title(\"model loss\")\n",
        "plt.ylabel(\"loss\")\n",
        "plt.xlabel(\"Epoch\")\n",
        "plt.legend([\"loss\",\"Validation loss\"])\n",
        "plt.show()"
      ],
      "metadata": {
        "colab": {
          "base_uri": "https://localhost:8080/",
          "height": 472
        },
        "id": "JHZg72TPZW1p",
        "outputId": "88b0afdf-137d-4162-f9b5-28865bae0711"
      },
      "execution_count": 10,
      "outputs": [
        {
          "output_type": "display_data",
          "data": {
            "text/plain": [
              "<Figure size 640x480 with 1 Axes>"
            ],
            "image/png": "[encoded data removed]"
          },
          "metadata": {}
        }
      ]
    },
    {
      "cell_type": "code",
      "source": [
        "from sklearn.metrics import classification_report\n",
        "\n",
        "# Utilisez le modèle pour prédire les classes sur les données de validation\n",
        "y_pred = model.predict(val_generator)\n",
        "y_true = val_generator.classes\n",
        "\n",
        "# Convertissez les probabilités prédites en classes prédites (classe avec la probabilité la plus élevée)\n",
        "y_pred_classes = y_pred.argmax(axis=-1)\n",
        "\n",
        "# Calcul des métriques de classification\n",
        "report = classification_report(y_true, y_pred_classes, target_names=val_generator.class_indices, output_dict=True)\n",
        "\n",
        "# Affichage des métriques pour chaque classe\n",
        "for class_name, metrics in report.items():\n",
        "    print(f'Classe : {class_name}')\n",
        "    print(f'   Précision : {metrics[\"precision\"]}')\n",
        "    print(f'   Rappel : {metrics[\"recall\"]}')\n",
        "    print(f'   Score F1 : {metrics[\"f1-score\"]}')\n",
        "    print(f'   Support : {metrics[\"support\"]}\\n')"
      ],
      "metadata": {
        "colab": {
          "base_uri": "https://localhost:8080/",
          "height": 870
        },
        "id": "RKjX7PRcNUhN",
        "outputId": "6d2a3c21-0466-4940-f844-cd0a1ab85523"
      },
      "execution_count": 13,
      "outputs": [
        {
          "output_type": "stream",
          "name": "stdout",
          "text": [
            "14/14 [==============================] - 13s 810ms/step\n",
            "Classe : Looking Away\n",
            "   Précision : 0.12941176470588237\n",
            "   Rappel : 0.12941176470588237\n",
            "   Score F1 : 0.12941176470588237\n",
            "   Support : 85\n",
            "\n",
            "Classe : bored\n",
            "   Précision : 0.14545454545454545\n",
            "   Rappel : 0.1111111111111111\n",
            "   Score F1 : 0.12598425196850394\n",
            "   Support : 72\n",
            "\n",
            "Classe : confused\n",
            "   Précision : 0.1891891891891892\n",
            "   Rappel : 0.1891891891891892\n",
            "   Score F1 : 0.18918918918918917\n",
            "   Support : 74\n",
            "\n",
            "Classe : drowsy\n",
            "   Précision : 0.14285714285714285\n",
            "   Rappel : 0.18867924528301888\n",
            "   Score F1 : 0.16260162601626016\n",
            "   Support : 53\n",
            "\n",
            "Classe : engaged\n",
            "   Précision : 0.18571428571428572\n",
            "   Rappel : 0.18571428571428572\n",
            "   Score F1 : 0.18571428571428572\n",
            "   Support : 70\n",
            "\n",
            "Classe : frustrated\n",
            "   Précision : 0.1527777777777778\n",
            "   Rappel : 0.1527777777777778\n",
            "   Score F1 : 0.1527777777777778\n",
            "   Support : 72\n",
            "\n",
            "Classe : accuracy\n"
          ]
        },
        {
          "output_type": "error",
          "ename": "TypeError",
          "evalue": "'float' object is not subscriptable",
          "traceback": [
            "\u001b[0;31m---------------------------------------------------------------------------\u001b[0m",
            "\u001b[0;31mTypeError\u001b[0m                                 Traceback (most recent call last)",
            "\u001b[0;32m<ipython-input-13-61e1fd4a5ec1>\u001b[0m in \u001b[0;36m<cell line: 14>\u001b[0;34m()\u001b[0m\n\u001b[1;32m     14\u001b[0m \u001b[0;32mfor\u001b[0m \u001b[0mclass_name\u001b[0m\u001b[0;34m,\u001b[0m \u001b[0mmetrics\u001b[0m \u001b[0;32min\u001b[0m \u001b[0mreport\u001b[0m\u001b[0;34m.\u001b[0m\u001b[0mitems\u001b[0m\u001b[0;34m(\u001b[0m\u001b[0;34m)\u001b[0m\u001b[0;34m:\u001b[0m\u001b[0;34m\u001b[0m\u001b[0;34m\u001b[0m\u001b[0m\n\u001b[1;32m     15\u001b[0m     \u001b[0mprint\u001b[0m\u001b[0;34m(\u001b[0m\u001b[0;34mf'Classe : {class_name}'\u001b[0m\u001b[0;34m)\u001b[0m\u001b[0;34m\u001b[0m\u001b[0;34m\u001b[0m\u001b[0m\n\u001b[0;32m---> 16\u001b[0;31m     \u001b[0mprint\u001b[0m\u001b[0;34m(\u001b[0m\u001b[0;34mf'   Précision : {metrics[\"precision\"]}'\u001b[0m\u001b[0;34m)\u001b[0m\u001b[0;34m\u001b[0m\u001b[0;34m\u001b[0m\u001b[0m\n\u001b[0m\u001b[1;32m     17\u001b[0m     \u001b[0mprint\u001b[0m\u001b[0;34m(\u001b[0m\u001b[0;34mf'   Rappel : {metrics[\"recall\"]}'\u001b[0m\u001b[0;34m)\u001b[0m\u001b[0;34m\u001b[0m\u001b[0;34m\u001b[0m\u001b[0m\n\u001b[1;32m     18\u001b[0m     \u001b[0mprint\u001b[0m\u001b[0;34m(\u001b[0m\u001b[0;34mf'   Score F1 : {metrics[\"f1-score\"]}'\u001b[0m\u001b[0;34m)\u001b[0m\u001b[0;34m\u001b[0m\u001b[0;34m\u001b[0m\u001b[0m\n",
            "\u001b[0;31mTypeError\u001b[0m: 'float' object is not subscriptable"
          ]
        }
      ]
    }
  ]
}